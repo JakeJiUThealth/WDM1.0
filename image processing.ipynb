{
 "cells": [
  {
   "cell_type": "code",
   "execution_count": 2,
   "metadata": {},
   "outputs": [
    {
     "name": "stdout",
     "output_type": "stream",
     "text": [
      "Done!\n"
     ]
    }
   ],
   "source": [
    "import cv2\n",
    "import os\n",
    "import numpy as np\n",
    "\n",
    "#background separating\n",
    "def mvbg_img(read_file):\n",
    "    image = cv2.imread(read_file, 1)\n",
    "    mask = np.zeros(image.shape[:2], np.uint8) \n",
    "    bgdModel = np.zeros((1,65), np.float64) \n",
    "    fgdModel = np.zeros((1,65), np.float64) \n",
    "    rect = (20,30,220,250)\n",
    "    cv2.grabCut(image, mask, rect, bgdModel, fgdModel, 10, cv2.GC_INIT_WITH_RECT) \n",
    "    mask2 = np.where((mask == 2) | (mask == 0), 0, 1).astype('uint8')\n",
    "    res = image * mask2[:,:,np.newaxis] \n",
    "    return res\n",
    "\n",
    "#image panning\n",
    "def panning_img(read_file):\n",
    "    image = cv2.imread(read_file, 1)\n",
    "    x,y,c = image.shape\n",
    "    M = np.float32([[1,0,20],[0,1,0]])\n",
    "    res = cv2.warpAffine(image,M,(y,x))\n",
    "    return res\n",
    "\n",
    "#image flipping\n",
    "def flip_img(read_file):\n",
    "    image = cv2.imread(read_file, 1)\n",
    "    res = cv2.flip(image,1)\n",
    "    return res\n",
    " \n",
    "#image rotating\n",
    "def rotating_img(read_file):\n",
    "    image = cv2.imread(read_file, 1)\n",
    "    x,y,c = image.shape\n",
    "    M = cv2.getRotationMatrix2D(((y-1)/2.0,(x-1)/2.0),90,1)\n",
    "    res = cv2.warpAffine(image,M,(y,x))\n",
    "    return res\n",
    "\n",
    "#image cropping\n",
    "def cropping_img(read_file):\n",
    "    image = cv2.imread(read_file, 1) \n",
    "    img = cv2.medianBlur(image, 5)  \n",
    "    b = cv2.threshold(img, 15, 255, cv2.THRESH_BINARY)  \n",
    "    binary_image = b[1]  \n",
    "    binary_image = cv2.cvtColor(binary_image, cv2.COLOR_BGR2GRAY)\n",
    "\n",
    "    x = binary_image.shape[0]\n",
    "    y = binary_image.shape[1]\n",
    "    edges_x = []\n",
    "    edges_y = []\n",
    "    for i in range(x):\n",
    "        for j in range(y):\n",
    "            if binary_image[i][j] == 255:\n",
    "                edges_x.append(i)\n",
    "                edges_y.append(j)\n",
    "    left = min(edges_x)  \n",
    "    right = max(edges_x) \n",
    "    width = right - left  \n",
    "    bottom = min(edges_y) \n",
    "    top = max(edges_y)  \n",
    "    height = top - bottom  \n",
    "\n",
    "    res = image[left:left + width, bottom:bottom + height]  \n",
    "    return res  \n",
    "\n",
    "if __name__ == \"__main__\":\n",
    "    \n",
    "    source_path = \"input/\"  \n",
    "    save_path = \"output/\"  \n",
    "\n",
    "    if not os.path.exists(save_path):\n",
    "        os.mkdir(save_path)\n",
    "\n",
    "    file_names = os.listdir(source_path)\n",
    "\n",
    "    for i in range(len(file_names)):\n",
    "        \n",
    "        #x = mvbg_img(source_path + file_names[i])  \n",
    "        #x = panning_img(source_path + file_names[i])  \n",
    "        #x = rotating_img(source_path + file_names[i])\n",
    "        #x = cropping_img(source_path + file_names[i])  \n",
    "        x = flip_img(source_path + file_names[i]) \n",
    "        cv2.imwrite(save_path + file_names[i], x)\n",
    "    print(\"Done!\")\n"
   ]
  },
  {
   "cell_type": "code",
   "execution_count": null,
   "metadata": {},
   "outputs": [],
   "source": []
  },
  {
   "cell_type": "code",
   "execution_count": null,
   "metadata": {},
   "outputs": [],
   "source": []
  }
 ],
 "metadata": {
  "kernelspec": {
   "display_name": "Python 3",
   "language": "python",
   "name": "python3"
  },
  "language_info": {
   "codemirror_mode": {
    "name": "ipython",
    "version": 3
   },
   "file_extension": ".py",
   "mimetype": "text/x-python",
   "name": "python",
   "nbconvert_exporter": "python",
   "pygments_lexer": "ipython3",
   "version": "3.6.12"
  }
 },
 "nbformat": 4,
 "nbformat_minor": 4
}
